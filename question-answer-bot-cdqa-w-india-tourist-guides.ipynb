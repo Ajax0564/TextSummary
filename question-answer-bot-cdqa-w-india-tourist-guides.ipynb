{
 "cells": [
  {
   "cell_type": "code",
   "execution_count": 1,
   "metadata": {
    "_kg_hide-input": false,
    "_kg_hide-output": true,
    "execution": {
     "iopub.execute_input": "2021-01-27T14:41:58.780916Z",
     "iopub.status.busy": "2021-01-27T14:41:58.780016Z",
     "iopub.status.idle": "2021-01-27T14:46:56.122519Z",
     "shell.execute_reply": "2021-01-27T14:46:56.116779Z"
    },
    "papermill": {
     "duration": 297.359529,
     "end_time": "2021-01-27T14:46:56.122680",
     "exception": false,
     "start_time": "2021-01-27T14:41:58.763151",
     "status": "completed"
    },
    "tags": []
   },
   "outputs": [
    {
     "name": "stdout",
     "output_type": "stream",
     "text": [
      "Collecting cdqa\r\n",
      "  Downloading cdqa-1.3.9.tar.gz (45 kB)\r\n",
      "\u001b[K     |████████████████████████████████| 45 kB 427 kB/s \r\n",
      "\u001b[?25hRequirement already satisfied: prettytable==0.7.2 in /opt/conda/lib/python3.7/site-packages (from cdqa) (0.7.2)\r\n",
      "Collecting Flask==1.1.1\r\n",
      "  Downloading Flask-1.1.1-py2.py3-none-any.whl (94 kB)\r\n",
      "\u001b[K     |████████████████████████████████| 94 kB 238 kB/s \r\n",
      "\u001b[?25hRequirement already satisfied: click>=5.1 in /opt/conda/lib/python3.7/site-packages (from Flask==1.1.1->cdqa) (7.1.1)\r\n",
      "Requirement already satisfied: itsdangerous>=0.24 in /opt/conda/lib/python3.7/site-packages (from Flask==1.1.1->cdqa) (1.1.0)\r\n",
      "Requirement already satisfied: Werkzeug>=0.15 in /opt/conda/lib/python3.7/site-packages (from Flask==1.1.1->cdqa) (1.0.1)\r\n",
      "Requirement already satisfied: Jinja2>=2.10.1 in /opt/conda/lib/python3.7/site-packages (from Flask==1.1.1->cdqa) (2.11.2)\r\n",
      "Collecting flask_cors==3.0.8\r\n",
      "  Downloading Flask_Cors-3.0.8-py2.py3-none-any.whl (14 kB)\r\n",
      "Requirement already satisfied: Six in /opt/conda/lib/python3.7/site-packages (from flask_cors==3.0.8->cdqa) (1.14.0)\r\n",
      "Requirement already satisfied: MarkupSafe>=0.23 in /opt/conda/lib/python3.7/site-packages (from Jinja2>=2.10.1->Flask==1.1.1->cdqa) (1.1.1)\r\n",
      "Collecting joblib==0.13.2\r\n",
      "  Downloading joblib-0.13.2-py2.py3-none-any.whl (278 kB)\r\n",
      "\u001b[K     |████████████████████████████████| 278 kB 800 kB/s \r\n",
      "\u001b[?25hCollecting markdown==3.1.1\r\n",
      "  Downloading Markdown-3.1.1-py2.py3-none-any.whl (87 kB)\r\n",
      "\u001b[K     |████████████████████████████████| 87 kB 1.0 MB/s \r\n",
      "\u001b[?25hRequirement already satisfied: setuptools>=36 in /opt/conda/lib/python3.7/site-packages (from markdown==3.1.1->cdqa) (46.1.3.post20200325)\r\n",
      "Collecting pandas==0.25.0\r\n",
      "  Downloading pandas-0.25.0-cp37-cp37m-manylinux1_x86_64.whl (10.4 MB)\r\n",
      "\u001b[K     |████████████████████████████████| 10.4 MB 2.4 MB/s \r\n",
      "\u001b[?25hRequirement already satisfied: python-dateutil>=2.6.1 in /opt/conda/lib/python3.7/site-packages (from pandas==0.25.0->cdqa) (2.8.1)\r\n",
      "Requirement already satisfied: numpy>=1.13.3 in /opt/conda/lib/python3.7/site-packages (from pandas==0.25.0->cdqa) (1.18.5)\r\n",
      "Requirement already satisfied: pytz>=2017.2 in /opt/conda/lib/python3.7/site-packages (from pandas==0.25.0->cdqa) (2019.3)\r\n",
      "Requirement already satisfied: Six in /opt/conda/lib/python3.7/site-packages (from flask_cors==3.0.8->cdqa) (1.14.0)\r\n",
      "Collecting scikit_learn==0.21.2\r\n",
      "  Downloading scikit_learn-0.21.2-cp37-cp37m-manylinux1_x86_64.whl (6.7 MB)\r\n",
      "\u001b[K     |████████████████████████████████| 6.7 MB 2.5 MB/s \r\n",
      "\u001b[?25hRequirement already satisfied: numpy>=1.13.3 in /opt/conda/lib/python3.7/site-packages (from pandas==0.25.0->cdqa) (1.18.5)\r\n",
      "Requirement already satisfied: scipy>=0.17.0 in /opt/conda/lib/python3.7/site-packages (from scikit_learn==0.21.2->cdqa) (1.4.1)\r\n",
      "Requirement already satisfied: numpy>=1.13.3 in /opt/conda/lib/python3.7/site-packages (from pandas==0.25.0->cdqa) (1.18.5)\r\n",
      "Collecting tika==1.19\r\n",
      "  Downloading tika-1.19.tar.gz (24 kB)\r\n",
      "Requirement already satisfied: setuptools>=36 in /opt/conda/lib/python3.7/site-packages (from markdown==3.1.1->cdqa) (46.1.3.post20200325)\r\n",
      "Requirement already satisfied: requests in /opt/conda/lib/python3.7/site-packages (from tika==1.19->cdqa) (2.23.0)\r\n",
      "Requirement already satisfied: idna<3,>=2.5 in /opt/conda/lib/python3.7/site-packages (from requests->tika==1.19->cdqa) (2.9)\r\n",
      "Requirement already satisfied: certifi>=2017.4.17 in /opt/conda/lib/python3.7/site-packages (from requests->tika==1.19->cdqa) (2020.12.5)\r\n",
      "Requirement already satisfied: chardet<4,>=3.0.2 in /opt/conda/lib/python3.7/site-packages (from requests->tika==1.19->cdqa) (3.0.4)\r\n",
      "Requirement already satisfied: urllib3!=1.25.0,!=1.25.1,<1.26,>=1.21.1 in /opt/conda/lib/python3.7/site-packages (from requests->tika==1.19->cdqa) (1.25.9)\r\n",
      "Collecting torch==1.2.0\r\n",
      "  Downloading torch-1.2.0-cp37-cp37m-manylinux1_x86_64.whl (748.9 MB)\r\n",
      "\u001b[K     |████████████████████████████████| 748.9 MB 509 bytes/s \r\n",
      "\u001b[?25hRequirement already satisfied: numpy>=1.13.3 in /opt/conda/lib/python3.7/site-packages (from pandas==0.25.0->cdqa) (1.18.5)\r\n",
      "Collecting tqdm==4.32.2\r\n",
      "  Downloading tqdm-4.32.2-py2.py3-none-any.whl (50 kB)\r\n",
      "\u001b[K     |████████████████████████████████| 50 kB 2.4 MB/s \r\n",
      "\u001b[?25hCollecting transformers==2.1.1\r\n",
      "  Downloading transformers-2.1.1-py3-none-any.whl (311 kB)\r\n",
      "\u001b[K     |████████████████████████████████| 311 kB 2.9 MB/s \r\n",
      "\u001b[?25hRequirement already satisfied: sacremoses in /opt/conda/lib/python3.7/site-packages (from transformers==2.1.1->cdqa) (0.0.43)\r\n",
      "Requirement already satisfied: regex in /opt/conda/lib/python3.7/site-packages (from transformers==2.1.1->cdqa) (2020.4.4)\r\n",
      "Requirement already satisfied: boto3 in /opt/conda/lib/python3.7/site-packages (from transformers==2.1.1->cdqa) (1.16.31)\r\n",
      "Requirement already satisfied: numpy>=1.13.3 in /opt/conda/lib/python3.7/site-packages (from pandas==0.25.0->cdqa) (1.18.5)\r\n",
      "Requirement already satisfied: requests in /opt/conda/lib/python3.7/site-packages (from tika==1.19->cdqa) (2.23.0)\r\n",
      "Requirement already satisfied: sentencepiece in /opt/conda/lib/python3.7/site-packages (from transformers==2.1.1->cdqa) (0.1.91)\r\n",
      "Requirement already satisfied: jmespath<1.0.0,>=0.7.1 in /opt/conda/lib/python3.7/site-packages (from boto3->transformers==2.1.1->cdqa) (0.10.0)\r\n",
      "Requirement already satisfied: botocore<1.20.0,>=1.19.31 in /opt/conda/lib/python3.7/site-packages (from boto3->transformers==2.1.1->cdqa) (1.19.31)\r\n",
      "Requirement already satisfied: s3transfer<0.4.0,>=0.3.0 in /opt/conda/lib/python3.7/site-packages (from boto3->transformers==2.1.1->cdqa) (0.3.3)\r\n",
      "Requirement already satisfied: jmespath<1.0.0,>=0.7.1 in /opt/conda/lib/python3.7/site-packages (from boto3->transformers==2.1.1->cdqa) (0.10.0)\r\n",
      "Requirement already satisfied: urllib3!=1.25.0,!=1.25.1,<1.26,>=1.21.1 in /opt/conda/lib/python3.7/site-packages (from requests->tika==1.19->cdqa) (1.25.9)\r\n",
      "Requirement already satisfied: python-dateutil>=2.6.1 in /opt/conda/lib/python3.7/site-packages (from pandas==0.25.0->cdqa) (2.8.1)\r\n",
      "Requirement already satisfied: botocore<1.20.0,>=1.19.31 in /opt/conda/lib/python3.7/site-packages (from boto3->transformers==2.1.1->cdqa) (1.19.31)\r\n",
      "Requirement already satisfied: click>=5.1 in /opt/conda/lib/python3.7/site-packages (from Flask==1.1.1->cdqa) (7.1.1)\r\n",
      "Requirement already satisfied: Six in /opt/conda/lib/python3.7/site-packages (from flask_cors==3.0.8->cdqa) (1.14.0)\r\n",
      "Requirement already satisfied: regex in /opt/conda/lib/python3.7/site-packages (from transformers==2.1.1->cdqa) (2020.4.4)\r\n",
      "Collecting wget==3.2\r\n",
      "  Downloading wget-3.2.zip (10 kB)\r\n",
      "Building wheels for collected packages: cdqa, tika, wget\r\n",
      "  Building wheel for cdqa (setup.py) ... \u001b[?25l-\b \b\\\b \bdone\r\n",
      "\u001b[?25h  Created wheel for cdqa: filename=cdqa-1.3.9-py3-none-any.whl size=47640 sha256=0d63fe3f4644247b94ee93ae467658f446aa306c6ae10c1f3bf801d163487fdd\r\n",
      "  Stored in directory: /root/.cache/pip/wheels/3a/bb/7c/ef1c8fcafa5d8b8a88232f3dccc84fec573c7d64b8aa219dd3\r\n",
      "  Building wheel for tika (setup.py) ... \u001b[?25l-\b \b\\\b \bdone\r\n",
      "\u001b[?25h  Created wheel for tika: filename=tika-1.19-py3-none-any.whl size=29222 sha256=7bfc271f8ebf3bfa3397bb0a7ee8b0202cdb9ec53e60e1e714858fe3dbbcd404\r\n",
      "  Stored in directory: /root/.cache/pip/wheels/11/59/5d/dcc580e12dccb97b5dcbb02a6ab9ea343dca9755b5ed1b5a2b\r\n",
      "  Building wheel for wget (setup.py) ... \u001b[?25l-\b \b\\\b \bdone\r\n",
      "\u001b[?25h  Created wheel for wget: filename=wget-3.2-py3-none-any.whl size=9681 sha256=20dc7745dfeff12d82b33137f781b47a3fd703b80322ed98280c254a91769bb5\r\n",
      "  Stored in directory: /root/.cache/pip/wheels/a1/b6/7c/0e63e34eb06634181c63adacca38b79ff8f35c37e3c13e3c02\r\n",
      "Successfully built cdqa tika wget\r\n",
      "Installing collected packages: tqdm, joblib, Flask, wget, transformers, torch, tika, scikit-learn, pandas, markdown, flask-cors, cdqa\r\n",
      "  Attempting uninstall: tqdm\r\n",
      "    Found existing installation: tqdm 4.45.0\r\n",
      "    Uninstalling tqdm-4.45.0:\r\n",
      "      Successfully uninstalled tqdm-4.45.0\r\n",
      "  Attempting uninstall: joblib\r\n",
      "    Found existing installation: joblib 0.14.1\r\n",
      "    Uninstalling joblib-0.14.1:\r\n",
      "      Successfully uninstalled joblib-0.14.1\r\n",
      "  Attempting uninstall: Flask\r\n",
      "    Found existing installation: Flask 1.1.2\r\n",
      "    Uninstalling Flask-1.1.2:\r\n",
      "      Successfully uninstalled Flask-1.1.2\r\n",
      "  Attempting uninstall: transformers\r\n",
      "    Found existing installation: transformers 3.5.1\r\n",
      "    Uninstalling transformers-3.5.1:\r\n",
      "      Successfully uninstalled transformers-3.5.1\r\n",
      "  Attempting uninstall: torch\r\n",
      "    Found existing installation: torch 1.7.0\r\n",
      "    Uninstalling torch-1.7.0:\r\n",
      "      Successfully uninstalled torch-1.7.0\r\n",
      "  Attempting uninstall: scikit-learn\r\n",
      "    Found existing installation: scikit-learn 0.23.2\r\n",
      "    Uninstalling scikit-learn-0.23.2:\r\n",
      "      Successfully uninstalled scikit-learn-0.23.2\r\n",
      "  Attempting uninstall: pandas\r\n",
      "    Found existing installation: pandas 1.1.5\r\n",
      "    Uninstalling pandas-1.1.5:\r\n",
      "      Successfully uninstalled pandas-1.1.5\r\n",
      "  Attempting uninstall: markdown\r\n",
      "    Found existing installation: Markdown 3.2.1\r\n",
      "    Uninstalling Markdown-3.2.1:\r\n",
      "      Successfully uninstalled Markdown-3.2.1\r\n",
      "\u001b[31mERROR: pip's dependency resolver does not currently take into account all the packages that are installed. This behaviour is the source of the following dependency conflicts.\r\n",
      "visions 0.4.1 requires pandas>=0.25.3, but you have pandas 0.25.0 which is incompatible.\r\n",
      "tpot 0.11.6.post2 requires scikit-learn>=0.22.0, but you have scikit-learn 0.21.2 which is incompatible.\r\n",
      "tpot 0.11.6.post2 requires tqdm>=4.36.1, but you have tqdm 4.32.2 which is incompatible.\r\n",
      "spacy 2.3.4 requires tqdm<5.0.0,>=4.38.0, but you have tqdm 4.32.2 which is incompatible.\r\n",
      "sklearn-pandas 2.0.3 requires pandas>=1.0.5, but you have pandas 0.25.0 which is incompatible.\r\n",
      "sklearn-pandas 2.0.3 requires scikit-learn>=0.23.0, but you have scikit-learn 0.21.2 which is incompatible.\r\n",
      "pytorch-lightning 1.0.8 requires torch>=1.3, but you have torch 1.2.0 which is incompatible.\r\n",
      "pytorch-lightning 1.0.8 requires tqdm>=4.41.0, but you have tqdm 4.32.2 which is incompatible.\r\n",
      "pytorch-ignite 0.4.2 requires torch<2,>=1.3, but you have torch 1.2.0 which is incompatible.\r\n",
      "plotnine 0.7.1 requires pandas>=1.1.0, but you have pandas 0.25.0 which is incompatible.\r\n",
      "phik 0.9.11 requires joblib>=0.14.1, but you have joblib 0.13.2 which is incompatible.\r\n",
      "pandas-profiling 2.6.0 requires pandas>=0.25.3, but you have pandas 0.25.0 which is incompatible.\r\n",
      "pandas-profiling 2.6.0 requires tqdm>=4.43.0, but you have tqdm 4.32.2 which is incompatible.\r\n",
      "osmnx 0.15.1 requires pandas>=1.0, but you have pandas 0.25.0 which is incompatible.\r\n",
      "mizani 0.7.2 requires pandas>=1.1.0, but you have pandas 0.25.0 which is incompatible.\r\n",
      "mapclassify 2.3.0 requires pandas>=1.0, but you have pandas 0.25.0 which is incompatible.\r\n",
      "librosa 0.8.0 requires joblib>=0.14, but you have joblib 0.13.2 which is incompatible.\r\n",
      "kornia 0.4.1 requires torch>=1.6.0, but you have torch 1.2.0 which is incompatible.\r\n",
      "imbalanced-learn 0.7.0 requires scikit-learn>=0.23, but you have scikit-learn 0.21.2 which is incompatible.\r\n",
      "fbprophet 0.7.1 requires pandas>=1.0.4, but you have pandas 0.25.0 which is incompatible.\r\n",
      "fbprophet 0.7.1 requires tqdm>=4.36.1, but you have tqdm 4.32.2 which is incompatible.\r\n",
      "fastai 2.1.8 requires torch>=1.7.0, but you have torch 1.2.0 which is incompatible.\r\n",
      "datashader 0.11.1 requires numba!=0.49.*,!=0.50.*,>=0.37.0, but you have numba 0.49.1 which is incompatible.\r\n",
      "cesium 0.9.12 requires joblib>=0.14.1, but you have joblib 0.13.2 which is incompatible.\r\n",
      "cesium 0.9.12 requires scikit-learn>=0.22.1, but you have scikit-learn 0.21.2 which is incompatible.\r\n",
      "catalyst 20.11 requires tqdm>=4.33.0, but you have tqdm 4.32.2 which is incompatible.\r\n",
      "autogluon-core 0.0.15b20201207 requires pandas<2.0,>=1.0.0, but you have pandas 0.25.0 which is incompatible.\r\n",
      "autogluon-core 0.0.15b20201207 requires scikit-learn<0.24,>=0.22.0, but you have scikit-learn 0.21.2 which is incompatible.\r\n",
      "autogluon-core 0.0.15b20201207 requires tqdm>=4.38.0, but you have tqdm 4.32.2 which is incompatible.\r\n",
      "allennlp 1.2.2 requires torch<1.8.0,>=1.6.0, but you have torch 1.2.0 which is incompatible.\r\n",
      "allennlp 1.2.2 requires transformers<3.6,>=3.4, but you have transformers 2.1.1 which is incompatible.\u001b[0m\r\n",
      "Successfully installed Flask-1.1.1 cdqa-1.3.9 flask-cors-3.0.8 joblib-0.13.2 markdown-3.1.1 pandas-0.25.0 scikit-learn-0.21.2 tika-1.19 torch-1.2.0 tqdm-4.32.2 transformers-2.1.1 wget-3.2\r\n",
      "\u001b[33mWARNING: You are using pip version 20.3.1; however, version 21.0 is available.\r\n",
      "You should consider upgrading via the '/opt/conda/bin/python3.7 -m pip install --upgrade pip' command.\u001b[0m\r\n"
     ]
    }
   ],
   "source": [
    "!pip install cdqa"
   ]
  },
  {
   "cell_type": "markdown",
   "metadata": {
    "papermill": {
     "duration": 1.659305,
     "end_time": "2021-01-27T14:46:59.546794",
     "exception": false,
     "start_time": "2021-01-27T14:46:57.887489",
     "status": "completed"
    },
    "tags": []
   },
   "source": [
    "## cdQA: Closed Domain Question Answering!\n",
    "\n",
    "An End-To-End Closed Domain Question Answering System. Built on top of the HuggingFace transformers library.(though it not maintained now, they have shiften development to [Haystack](https://github.com/deepset-ai/haystack). "
   ]
  },
  {
   "cell_type": "code",
   "execution_count": 2,
   "metadata": {
    "_cell_guid": "b1076dfc-b9ad-4769-8c92-a6c4dae69d19",
    "_kg_hide-output": true,
    "_uuid": "8f2839f25d086af736a60e9eeb907d3b93b6e0e5",
    "execution": {
     "iopub.execute_input": "2021-01-27T14:47:03.369665Z",
     "iopub.status.busy": "2021-01-27T14:47:03.368759Z",
     "iopub.status.idle": "2021-01-27T14:47:25.940424Z",
     "shell.execute_reply": "2021-01-27T14:47:25.939130Z"
    },
    "papermill": {
     "duration": 24.350434,
     "end_time": "2021-01-27T14:47:25.940556",
     "exception": false,
     "start_time": "2021-01-27T14:47:01.590122",
     "status": "completed"
    },
    "tags": []
   },
   "outputs": [
    {
     "name": "stderr",
     "output_type": "stream",
     "text": [
      "/opt/conda/lib/python3.7/site-packages/tqdm/autonotebook/__init__.py:18: TqdmExperimentalWarning: Using `tqdm.autonotebook.tqdm` in notebook mode. Use `tqdm.tqdm` instead to force console mode (e.g. in jupyter console)\n",
      "  \" (e.g. in jupyter console)\", TqdmExperimentalWarning)\n"
     ]
    },
    {
     "name": "stdout",
     "output_type": "stream",
     "text": [
      "\n",
      "Downloading trained model...\n"
     ]
    }
   ],
   "source": [
    "# importing the necessary libraries\n",
    "import os\n",
    "import pandas as pd\n",
    "from ast import literal_eval\n",
    "import urllib.request\n",
    "\n",
    "from cdqa.utils.converters import pdf_converter\n",
    "from cdqa.utils.filters import filter_paragraphs\n",
    "from cdqa.pipeline import QAPipeline\n",
    "from cdqa.utils.download import download_model\n",
    "download_model(model='bert-squad_1.1', dir='./models')   # distilbert-squad model can also be downloaded as per requirement."
   ]
  },
  {
   "cell_type": "markdown",
   "metadata": {
    "papermill": {
     "duration": 1.856586,
     "end_time": "2021-01-27T14:47:30.002030",
     "exception": false,
     "start_time": "2021-01-27T14:47:28.145444",
     "status": "completed"
    },
    "tags": []
   },
   "source": [
    "### Downloading Tourist Guide files from different URLs"
   ]
  },
  {
   "cell_type": "code",
   "execution_count": 3,
   "metadata": {
    "_kg_hide-output": true,
    "execution": {
     "iopub.execute_input": "2021-01-27T14:47:33.442507Z",
     "iopub.status.busy": "2021-01-27T14:47:33.441762Z",
     "iopub.status.idle": "2021-01-27T14:48:13.443870Z",
     "shell.execute_reply": "2021-01-27T14:48:13.444801Z"
    },
    "papermill": {
     "duration": 41.676318,
     "end_time": "2021-01-27T14:48:13.445032",
     "exception": false,
     "start_time": "2021-01-27T14:47:31.768714",
     "status": "completed"
    },
    "tags": []
   },
   "outputs": [
    {
     "data": {
      "text/plain": [
       "('/tmp/tmpe2zancv3', <http.client.HTTPMessage at 0x7f19a829a590>)"
      ]
     },
     "execution_count": 3,
     "metadata": {},
     "output_type": "execute_result"
    }
   ],
   "source": [
    "urllib.request.urlretrieve('https://www.traveliteindia.com/uimages/downloads/45.pdf', \"1.pdf\")\n",
    "urllib.request.urlretrieve('https://www.approachguides.com/ebook-previews/Preview-ApproachGuides-India-Delhi-Agra-Architecture.pdf', \"2.pdf\")\n",
    "urllib.request.urlretrieve('http://ficci.in/Sector/Report/20294/Unexplored-tourism-destinations-of-India.pdf', \"3.pdf\")\n",
    "urllib.request.urlretrieve('https://pubs.iied.org/sites/default/files/pdfs/migrate/17646IIED.pdf')\n"
   ]
  },
  {
   "cell_type": "markdown",
   "metadata": {
    "papermill": {
     "duration": 1.748092,
     "end_time": "2021-01-27T14:48:16.957917",
     "exception": false,
     "start_time": "2021-01-27T14:48:15.209825",
     "status": "completed"
    },
    "tags": []
   },
   "source": [
    "### **pdf_converter** can create a cdqa dataframe from a directory containing .pdf files"
   ]
  },
  {
   "cell_type": "code",
   "execution_count": 4,
   "metadata": {
    "_cell_guid": "79c7e3d0-c299-4dcb-8224-4455121ee9b0",
    "_kg_hide-output": true,
    "_uuid": "d629ff2d2480ee46fbb7e2d37f6b5fab8052498a",
    "execution": {
     "iopub.execute_input": "2021-01-27T14:48:20.659233Z",
     "iopub.status.busy": "2021-01-27T14:48:20.658145Z",
     "iopub.status.idle": "2021-01-27T14:48:46.698571Z",
     "shell.execute_reply": "2021-01-27T14:48:46.697846Z"
    },
    "papermill": {
     "duration": 27.709701,
     "end_time": "2021-01-27T14:48:46.698745",
     "exception": false,
     "start_time": "2021-01-27T14:48:18.989044",
     "status": "completed"
    },
    "tags": []
   },
   "outputs": [
    {
     "name": "stderr",
     "output_type": "stream",
     "text": [
      "2021-01-27 14:48:20,668 [MainThread  ] [INFO ]  Retrieving http://search.maven.org/remotecontent?filepath=org/apache/tika/tika-server/1.19/tika-server-1.19.jar to /tmp/tika-server.jar.\n",
      "2021-01-27 14:48:24,885 [MainThread  ] [INFO ]  Retrieving http://search.maven.org/remotecontent?filepath=org/apache/tika/tika-server/1.19/tika-server-1.19.jar.md5 to /tmp/tika-server.jar.md5.\n",
      "2021-01-27 14:48:25,976 [MainThread  ] [WARNI]  Failed to see startup log message; retrying...\n"
     ]
    }
   ],
   "source": [
    "df = pdf_converter(directory_path='./')"
   ]
  },
  {
   "cell_type": "markdown",
   "metadata": {
    "papermill": {
     "duration": 1.720765,
     "end_time": "2021-01-27T14:48:50.432396",
     "exception": false,
     "start_time": "2021-01-27T14:48:48.711631",
     "status": "completed"
    },
    "tags": []
   },
   "source": [
    "### Fitting the pipeline on corpus using the pre-trained reader"
   ]
  },
  {
   "cell_type": "code",
   "execution_count": 5,
   "metadata": {
    "execution": {
     "iopub.execute_input": "2021-01-27T14:48:54.144251Z",
     "iopub.status.busy": "2021-01-27T14:48:54.143170Z",
     "iopub.status.idle": "2021-01-27T14:48:56.497481Z",
     "shell.execute_reply": "2021-01-27T14:48:56.496590Z"
    },
    "papermill": {
     "duration": 4.045773,
     "end_time": "2021-01-27T14:48:56.497600",
     "exception": false,
     "start_time": "2021-01-27T14:48:52.451827",
     "status": "completed"
    },
    "tags": []
   },
   "outputs": [
    {
     "name": "stderr",
     "output_type": "stream",
     "text": [
      "100%|██████████| 231508/231508 [00:00<00:00, 893024.43B/s]\n"
     ]
    },
    {
     "data": {
      "text/plain": [
       "QAPipeline(reader=BertQA(adam_epsilon=1e-08, bert_model='bert-base-uncased',\n",
       "                         do_lower_case=True, fp16=False,\n",
       "                         gradient_accumulation_steps=1, learning_rate=5e-05,\n",
       "                         local_rank=-1, loss_scale=0, max_answer_length=30,\n",
       "                         n_best_size=20, no_cuda=False,\n",
       "                         null_score_diff_threshold=0.0, num_train_epochs=3.0,\n",
       "                         output_dir=None, predict_batch_size=8, seed=42,\n",
       "                         server_ip='', server_po..._size=8,\n",
       "                         verbose_logging=False, version_2_with_negative=False,\n",
       "                         warmup_proportion=0.1, warmup_steps=0),\n",
       "           retrieve_by_doc=False,\n",
       "           retriever=BM25Retriever(b=0.75, floor=None, k1=2.0, lowercase=True,\n",
       "                                   max_df=1.0, min_df=2, ngram_range=(1, 2),\n",
       "                                   preprocessor=None, stop_words='english',\n",
       "                                   token_pattern='(?u)\\\\b\\\\w\\\\w+\\\\b',\n",
       "                                   tokenizer=None, top_n=20, verbose=False,\n",
       "                                   vocabulary=None))"
      ]
     },
     "execution_count": 5,
     "metadata": {},
     "output_type": "execute_result"
    }
   ],
   "source": [
    "cdqa_pipeline = QAPipeline(reader='./models/bert_qa.joblib', max_df=1.0, )\n",
    "cdqa_pipeline.fit_retriever(df=df)"
   ]
  },
  {
   "cell_type": "markdown",
   "metadata": {
    "papermill": {
     "duration": 1.677036,
     "end_time": "2021-01-27T14:48:59.893443",
     "exception": false,
     "start_time": "2021-01-27T14:48:58.216407",
     "status": "completed"
    },
    "tags": []
   },
   "source": [
    "## Predications/QA!!"
   ]
  },
  {
   "cell_type": "code",
   "execution_count": 6,
   "metadata": {
    "execution": {
     "iopub.execute_input": "2021-01-27T14:49:04.015696Z",
     "iopub.status.busy": "2021-01-27T14:49:04.014657Z",
     "iopub.status.idle": "2021-01-27T14:49:04.595398Z",
     "shell.execute_reply": "2021-01-27T14:49:04.594774Z"
    },
    "papermill": {
     "duration": 2.967758,
     "end_time": "2021-01-27T14:49:04.595529",
     "exception": false,
     "start_time": "2021-01-27T14:49:01.627771",
     "status": "completed"
    },
    "tags": []
   },
   "outputs": [
    {
     "name": "stdout",
     "output_type": "stream",
     "text": [
      "query: when Jama Masjid was built?\n",
      "answer: 1650-1656\n",
      "title: 2\n",
      "paragraph: Overview• Built: 1650-1656.• Ruler: Mughal ruler Shah Jahan (ruled 1628-1658).• Location: Chandni Chowk neighborhood in New Delhi, near the Red Fort. See in Google \n"
     ]
    }
   ],
   "source": [
    "query = 'when Jama Masjid was built?'\n",
    "prediction = cdqa_pipeline.predict(query)\n",
    "print('query: {}'.format(query))\n",
    "print('answer: {}'.format(prediction[0]))\n",
    "print('title: {}'.format(prediction[1]))\n",
    "print('paragraph: {}'.format(prediction[2]))"
   ]
  },
  {
   "cell_type": "code",
   "execution_count": 7,
   "metadata": {
    "execution": {
     "iopub.execute_input": "2021-01-27T14:49:07.961740Z",
     "iopub.status.busy": "2021-01-27T14:49:07.960718Z",
     "iopub.status.idle": "2021-01-27T14:49:08.408311Z",
     "shell.execute_reply": "2021-01-27T14:49:08.407680Z"
    },
    "papermill": {
     "duration": 2.133228,
     "end_time": "2021-01-27T14:49:08.408423",
     "exception": false,
     "start_time": "2021-01-27T14:49:06.275195",
     "status": "completed"
    },
    "tags": []
   },
   "outputs": [
    {
     "name": "stdout",
     "output_type": "stream",
     "text": [
      "query: Rajasthan is famous forts?\n",
      "answer: Rajasthan houses the largest number of forts and palaces in the world\n",
      "title: 1\n",
      "paragraph: Rajasthan houses the largest number of forts and palaces in the world. Today, some of these architectural marvels have been converted into heritage hotels, allowing you the luxury of a palatial stay in India. \n"
     ]
    }
   ],
   "source": [
    "query = 'Rajasthan is famous forts?'\n",
    "prediction = cdqa_pipeline.predict(query)\n",
    "print('query: {}'.format(query))\n",
    "print('answer: {}'.format(prediction[0]))\n",
    "print('title: {}'.format(prediction[1]))\n",
    "print('paragraph: {}'.format(prediction[2]))"
   ]
  },
  {
   "cell_type": "code",
   "execution_count": 8,
   "metadata": {
    "execution": {
     "iopub.execute_input": "2021-01-27T14:49:11.894060Z",
     "iopub.status.busy": "2021-01-27T14:49:11.893118Z",
     "iopub.status.idle": "2021-01-27T14:49:12.415011Z",
     "shell.execute_reply": "2021-01-27T14:49:12.415642Z"
    },
    "papermill": {
     "duration": 2.259956,
     "end_time": "2021-01-27T14:49:12.415802",
     "exception": false,
     "start_time": "2021-01-27T14:49:10.155846",
     "status": "completed"
    },
    "tags": []
   },
   "outputs": [
    {
     "name": "stdout",
     "output_type": "stream",
     "text": [
      "query: Where is Hampi?\n",
      "answer: Karnataka\n",
      "title: 3\n",
      "paragraph: 1.7 Hampi (Karnataka) ...................................................................19\n"
     ]
    }
   ],
   "source": [
    "query = 'Where is Hampi?'\n",
    "prediction = cdqa_pipeline.predict(query)\n",
    "print('query: {}'.format(query))\n",
    "print('answer: {}'.format(prediction[0]))\n",
    "print('title: {}'.format(prediction[1]))\n",
    "print('paragraph: {}'.format(prediction[2]))"
   ]
  }
 ],
 "metadata": {
  "kernelspec": {
   "display_name": "Python 3",
   "language": "python",
   "name": "python3"
  },
  "language_info": {
   "codemirror_mode": {
    "name": "ipython",
    "version": 3
   },
   "file_extension": ".py",
   "mimetype": "text/x-python",
   "name": "python",
   "nbconvert_exporter": "python",
   "pygments_lexer": "ipython3",
   "version": "3.7.6"
  },
  "papermill": {
   "duration": 440.472593,
   "end_time": "2021-01-27T14:49:14.874509",
   "environment_variables": {},
   "exception": null,
   "input_path": "__notebook__.ipynb",
   "output_path": "__notebook__.ipynb",
   "parameters": {},
   "start_time": "2021-01-27T14:41:54.401916",
   "version": "2.1.0"
  }
 },
 "nbformat": 4,
 "nbformat_minor": 4
}
